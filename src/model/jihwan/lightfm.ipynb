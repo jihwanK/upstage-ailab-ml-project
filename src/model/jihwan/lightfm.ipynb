{
 "cells": [
  {
   "cell_type": "code",
   "execution_count": 28,
   "metadata": {},
   "outputs": [],
   "source": [
    "import pandas as pd\n",
    "from lightfm import LightFM\n",
    "from lightfm.data import Dataset"
   ]
  },
  {
   "cell_type": "code",
   "execution_count": 3,
   "metadata": {},
   "outputs": [
    {
     "data": {
      "text/plain": [
       "<lightfm.lightfm.LightFM at 0x7f7eb118cd90>"
      ]
     },
     "execution_count": 3,
     "metadata": {},
     "output_type": "execute_result"
    }
   ],
   "source": [
    "model = LightFM(no_components=30)"
   ]
  },
  {
   "cell_type": "code",
   "execution_count": 29,
   "metadata": {},
   "outputs": [],
   "source": [
    "user_df = pd.read_csv(\"../../../data/final/final_user_profile_ohe.csv\")\n",
    "product_df = pd.read_csv(\"../../../data/final/final_compact_products.csv\")\n",
    "review_df = pd.read_csv(\"../../../data/final/puchase_history_rating.csv\")"
   ]
  },
  {
   "cell_type": "code",
   "execution_count": 30,
   "metadata": {},
   "outputs": [
    {
     "data": {
      "text/html": [
       "<div>\n",
       "<style scoped>\n",
       "    .dataframe tbody tr th:only-of-type {\n",
       "        vertical-align: middle;\n",
       "    }\n",
       "\n",
       "    .dataframe tbody tr th {\n",
       "        vertical-align: top;\n",
       "    }\n",
       "\n",
       "    .dataframe thead th {\n",
       "        text-align: right;\n",
       "    }\n",
       "</style>\n",
       "<table border=\"1\" class=\"dataframe\">\n",
       "  <thead>\n",
       "    <tr style=\"text-align: right;\">\n",
       "      <th></th>\n",
       "      <th>product_id</th>\n",
       "      <th>brand_name</th>\n",
       "      <th>product_name</th>\n",
       "      <th>review_cnt</th>\n",
       "      <th>overall_rating</th>\n",
       "      <th>ingredients</th>\n",
       "    </tr>\n",
       "  </thead>\n",
       "  <tbody>\n",
       "    <tr>\n",
       "      <th>0</th>\n",
       "      <td>A000000192568</td>\n",
       "      <td>일소</td>\n",
       "      <td>[피지클리너] 일소 슈퍼 멜팅 세범 소프트너 150ml 기획 (+솜 40매 증정)</td>\n",
       "      <td>7988</td>\n",
       "      <td>4.7</td>\n",
       "      <td>정제수, 1,2-헥산다이올, 글리세린, 영지버섯추출물, 흰버드나무껍질추출물, 더덕뿌...</td>\n",
       "    </tr>\n",
       "    <tr>\n",
       "      <th>1</th>\n",
       "      <td>A000000202472</td>\n",
       "      <td>에이프릴스킨</td>\n",
       "      <td>[3관왕 당근밤]에이프릴스킨 캐로틴 클렌징밤 기획세트(+코 칫솔 증정)</td>\n",
       "      <td>1759</td>\n",
       "      <td>4.7</td>\n",
       "      <td>에틸헥실팔미테이트, 솔베스-30테트라올리에이트, 합성왁스, 다이펜타에리스리틸헥사C5...</td>\n",
       "    </tr>\n",
       "    <tr>\n",
       "      <th>2</th>\n",
       "      <td>A000000211116</td>\n",
       "      <td>아렌시아</td>\n",
       "      <td>[10월 올영픽/50g 증정] 아렌시아 떡솝 프레시 그린 클렌저 120g 기획</td>\n",
       "      <td>1337</td>\n",
       "      <td>4.6</td>\n",
       "      <td>글리세린, 정제수, 소듐코코일이세티오네이트, 스위트아몬드씨드케이크, 소듐코코일글라이...</td>\n",
       "    </tr>\n",
       "    <tr>\n",
       "      <th>3</th>\n",
       "      <td>A000000193919</td>\n",
       "      <td>비건이펙트</td>\n",
       "      <td>[피지모공세정]비건이펙트 클린 앤 글로우 청보리 젤 클렌저 205ml 기획(+토너패...</td>\n",
       "      <td>3490</td>\n",
       "      <td>4.7</td>\n",
       "      <td>보리싹추출물(337041.6ppm), 정제수, 보리추출물(128,380ppm), 글...</td>\n",
       "    </tr>\n",
       "    <tr>\n",
       "      <th>4</th>\n",
       "      <td>A000000210043</td>\n",
       "      <td>바닐라코</td>\n",
       "      <td>[NEW/여행 필수템] 바닐라코 클린잇제로 오리지널/포어 클렌징밤 트래블 키트 16개입</td>\n",
       "      <td>1971</td>\n",
       "      <td>4.9</td>\n",
       "      <td>세틸에틸헥사노에이트, 에틸헥실스테아레이트, 피이지-20글리세릴트라이아이소스테아레이트...</td>\n",
       "    </tr>\n",
       "    <tr>\n",
       "      <th>...</th>\n",
       "      <td>...</td>\n",
       "      <td>...</td>\n",
       "      <td>...</td>\n",
       "      <td>...</td>\n",
       "      <td>...</td>\n",
       "      <td>...</td>\n",
       "    </tr>\n",
       "    <tr>\n",
       "      <th>912</th>\n",
       "      <td>A000000211210</td>\n",
       "      <td>미쟝센</td>\n",
       "      <td>미쟝센 퍼펙트 매직 스트레이트 세럼 샴푸/트리트먼트/세럼 3종 중 택1</td>\n",
       "      <td>0</td>\n",
       "      <td>0.0</td>\n",
       "      <td>정제수, 소듐라우레스설페이트, 코카미도프로필하이드록시설테인, 다이소듐라우레스설포석시...</td>\n",
       "    </tr>\n",
       "    <tr>\n",
       "      <th>913</th>\n",
       "      <td>A000000200795</td>\n",
       "      <td>차홍</td>\n",
       "      <td>차홍 픽스 디테일 헤어 마스카라 15ml</td>\n",
       "      <td>92</td>\n",
       "      <td>4.7</td>\n",
       "      <td>정제수, 에탄올, 피브이피, 말티톨, 라벤더꽃추출물, 베르가못잎추출물, 페퍼민트잎추...</td>\n",
       "    </tr>\n",
       "    <tr>\n",
       "      <th>914</th>\n",
       "      <td>A000000210823</td>\n",
       "      <td>그로우어스</td>\n",
       "      <td>[10월 올영픽][회사원A 공동개발]그로우어스 테라피 미네랄 샴푸 500g 기획 (...</td>\n",
       "      <td>397</td>\n",
       "      <td>4.9</td>\n",
       "      <td>정제수, 소듐C14-16올레핀설포네이트, 라우릴베타인, 다이소듐라우레스설포석시네이트...</td>\n",
       "    </tr>\n",
       "    <tr>\n",
       "      <th>915</th>\n",
       "      <td>A000000210024</td>\n",
       "      <td>그로우어스</td>\n",
       "      <td>[1&amp;1더블]그로우어스 데미지 테라피 헤어 오일 65ml 더블 기획</td>\n",
       "      <td>230</td>\n",
       "      <td>4.7</td>\n",
       "      <td>사이클로펜타실록세인, 다이메티콘올, 다이실록세인, 다이메티콘, 트라이올레인, 향료,...</td>\n",
       "    </tr>\n",
       "    <tr>\n",
       "      <th>916</th>\n",
       "      <td>A000000187022</td>\n",
       "      <td>모레모</td>\n",
       "      <td>모레모 헤어트리트먼트 미라클 2X 230ml 러브에디션 기획(+60ml 증정)</td>\n",
       "      <td>8507</td>\n",
       "      <td>4.8</td>\n",
       "      <td>\"정제수, 글리세린, 부틸렌글라이콜, 세테아릴알코올, 사이클로펜타실록세인, 베헨트리...</td>\n",
       "    </tr>\n",
       "  </tbody>\n",
       "</table>\n",
       "<p>917 rows × 6 columns</p>\n",
       "</div>"
      ],
      "text/plain": [
       "        product_id brand_name  \\\n",
       "0    A000000192568         일소   \n",
       "1    A000000202472     에이프릴스킨   \n",
       "2    A000000211116       아렌시아   \n",
       "3    A000000193919      비건이펙트   \n",
       "4    A000000210043       바닐라코   \n",
       "..             ...        ...   \n",
       "912  A000000211210        미쟝센   \n",
       "913  A000000200795         차홍   \n",
       "914  A000000210823      그로우어스   \n",
       "915  A000000210024      그로우어스   \n",
       "916  A000000187022        모레모   \n",
       "\n",
       "                                          product_name  review_cnt  \\\n",
       "0        [피지클리너] 일소 슈퍼 멜팅 세범 소프트너 150ml 기획 (+솜 40매 증정)        7988   \n",
       "1              [3관왕 당근밤]에이프릴스킨 캐로틴 클렌징밤 기획세트(+코 칫솔 증정)        1759   \n",
       "2          [10월 올영픽/50g 증정] 아렌시아 떡솝 프레시 그린 클렌저 120g 기획        1337   \n",
       "3    [피지모공세정]비건이펙트 클린 앤 글로우 청보리 젤 클렌저 205ml 기획(+토너패...        3490   \n",
       "4     [NEW/여행 필수템] 바닐라코 클린잇제로 오리지널/포어 클렌징밤 트래블 키트 16개입        1971   \n",
       "..                                                 ...         ...   \n",
       "912            미쟝센 퍼펙트 매직 스트레이트 세럼 샴푸/트리트먼트/세럼 3종 중 택1           0   \n",
       "913                             차홍 픽스 디테일 헤어 마스카라 15ml          92   \n",
       "914  [10월 올영픽][회사원A 공동개발]그로우어스 테라피 미네랄 샴푸 500g 기획 (...         397   \n",
       "915              [1&1더블]그로우어스 데미지 테라피 헤어 오일 65ml 더블 기획         230   \n",
       "916        모레모 헤어트리트먼트 미라클 2X 230ml 러브에디션 기획(+60ml 증정)        8507   \n",
       "\n",
       "     overall_rating                                        ingredients  \n",
       "0               4.7  정제수, 1,2-헥산다이올, 글리세린, 영지버섯추출물, 흰버드나무껍질추출물, 더덕뿌...  \n",
       "1               4.7  에틸헥실팔미테이트, 솔베스-30테트라올리에이트, 합성왁스, 다이펜타에리스리틸헥사C5...  \n",
       "2               4.6  글리세린, 정제수, 소듐코코일이세티오네이트, 스위트아몬드씨드케이크, 소듐코코일글라이...  \n",
       "3               4.7  보리싹추출물(337041.6ppm), 정제수, 보리추출물(128,380ppm), 글...  \n",
       "4               4.9  세틸에틸헥사노에이트, 에틸헥실스테아레이트, 피이지-20글리세릴트라이아이소스테아레이트...  \n",
       "..              ...                                                ...  \n",
       "912             0.0  정제수, 소듐라우레스설페이트, 코카미도프로필하이드록시설테인, 다이소듐라우레스설포석시...  \n",
       "913             4.7  정제수, 에탄올, 피브이피, 말티톨, 라벤더꽃추출물, 베르가못잎추출물, 페퍼민트잎추...  \n",
       "914             4.9  정제수, 소듐C14-16올레핀설포네이트, 라우릴베타인, 다이소듐라우레스설포석시네이트...  \n",
       "915             4.7  사이클로펜타실록세인, 다이메티콘올, 다이실록세인, 다이메티콘, 트라이올레인, 향료,...  \n",
       "916             4.8  \"정제수, 글리세린, 부틸렌글라이콜, 세테아릴알코올, 사이클로펜타실록세인, 베헨트리...  \n",
       "\n",
       "[917 rows x 6 columns]"
      ]
     },
     "execution_count": 30,
     "metadata": {},
     "output_type": "execute_result"
    }
   ],
   "source": [
    "product_df"
   ]
  },
  {
   "cell_type": "code",
   "execution_count": 8,
   "metadata": {},
   "outputs": [],
   "source": [
    "train = movielens[\"train\"]\n",
    "test = movielens[\"test\"]"
   ]
  },
  {
   "cell_type": "code",
   "execution_count": 13,
   "metadata": {},
   "outputs": [
    {
     "data": {
      "text/plain": [
       "((943, 1682), (943, 1682))"
      ]
     },
     "execution_count": 13,
     "metadata": {},
     "output_type": "execute_result"
    }
   ],
   "source": [
    "train.A.shape, test.A.shape"
   ]
  },
  {
   "cell_type": "code",
   "execution_count": 27,
   "metadata": {},
   "outputs": [
    {
     "data": {
      "text/plain": [
       "(1682, 1682)"
      ]
     },
     "execution_count": 27,
     "metadata": {},
     "output_type": "execute_result"
    }
   ],
   "source": [
    "movielens[\"item_features\"].A.shape"
   ]
  },
  {
   "cell_type": "code",
   "execution_count": 26,
   "metadata": {},
   "outputs": [
    {
     "data": {
      "text/plain": [
       "(1682,)"
      ]
     },
     "execution_count": 26,
     "metadata": {},
     "output_type": "execute_result"
    }
   ],
   "source": [
    "movielens[\"item_feature_labels\"].shape"
   ]
  },
  {
   "cell_type": "code",
   "execution_count": 33,
   "metadata": {},
   "outputs": [],
   "source": [
    "import pandas as pd\n",
    "from sklearn.model_selection import train_test_split\n",
    "\n",
    "history = pd.read_csv(\"../../../data/final/purchase_history_rating.csv\")\n",
    "\n",
    "interaction_matrix = history.pivot_table(\n",
    "    values=\"review_rating\", \n",
    "    index=\"user_code\", \n",
    "    columns=\"product_id\", \n",
    "    fill_value=0,\n",
    ")\n",
    "\n",
    "users = interaction_matrix.index\n",
    "train_users, test_users = train_test_split(users, test_size=0.2, random_state=42)\n",
    "\n",
    "train_set = interaction_matrix.loc[train_users]\n",
    "test_set = interaction_matrix.loc[test_users]"
   ]
  },
  {
   "cell_type": "code",
   "execution_count": 36,
   "metadata": {},
   "outputs": [],
   "source": [
    "train_set.to_csv(\"train.csv\", index=False)"
   ]
  },
  {
   "cell_type": "code",
   "execution_count": 37,
   "metadata": {},
   "outputs": [],
   "source": [
    "test_set.to_csv(\"test.csv\", index=False)"
   ]
  },
  {
   "cell_type": "code",
   "execution_count": null,
   "metadata": {},
   "outputs": [],
   "source": []
  }
 ],
 "metadata": {
  "kernelspec": {
   "display_name": "base",
   "language": "python",
   "name": "python3"
  },
  "language_info": {
   "codemirror_mode": {
    "name": "ipython",
    "version": 3
   },
   "file_extension": ".py",
   "mimetype": "text/x-python",
   "name": "python",
   "nbconvert_exporter": "python",
   "pygments_lexer": "ipython3",
   "version": "3.10.13"
  }
 },
 "nbformat": 4,
 "nbformat_minor": 2
}
